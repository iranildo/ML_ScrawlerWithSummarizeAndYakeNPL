{
  "nbformat": 4,
  "nbformat_minor": 0,
  "metadata": {
    "colab": {
      "name": "Scrawler com summarize",
      "provenance": [],
      "collapsed_sections": [],
      "authorship_tag": "ABX9TyM4WclD5X2ImWEeL9hnsbKn",
      "include_colab_link": true
    },
    "kernelspec": {
      "name": "python3",
      "display_name": "Python 3"
    },
    "language_info": {
      "name": "python"
    }
  },
  "cells": [
    {
      "cell_type": "markdown",
      "metadata": {
        "id": "view-in-github",
        "colab_type": "text"
      },
      "source": [
        "<a href=\"https://colab.research.google.com/github/iranildo/ML_ScrawlerWithSummarizeAndYakeNPL/blob/main/Scrawler_com_summarize.ipynb\" target=\"_parent\"><img src=\"https://colab.research.google.com/assets/colab-badge.svg\" alt=\"Open In Colab\"/></a>"
      ]
    },
    {
      "cell_type": "markdown",
      "source": [
        "#SCRAWLER DE NOTÍCIA COM SUMMARIZE E CATEGORIZAÇÃO VIA YAKE"
      ],
      "metadata": {
        "id": "dL-MGL1RAu6K"
      }
    },
    {
      "cell_type": "code",
      "execution_count": 29,
      "metadata": {
        "id": "94aW0i9TAdMz"
      },
      "outputs": [],
      "source": [
        "# Realizando os imports do  BeautifulSoup e do Summarize\n",
        "import requests\n",
        "from bs4 import BeautifulSoup\n",
        "from gensim.summarization import summarize, keywords"
      ]
    },
    {
      "cell_type": "code",
      "source": [
        "# Armazenar as informações da página da notícia em um objeto\n",
        "url = 'https://www.cnnbrasil.com.br/saude/por-que-fazer-exercicios-nao-e-o-suficiente-para-perder-peso/'\n",
        "pagina = requests.get(url)"
      ],
      "metadata": {
        "id": "BTRo8MrmBpJ1"
      },
      "execution_count": 9,
      "outputs": []
    },
    {
      "cell_type": "code",
      "source": [
        "# Criar o elemento soup que irá armazenar toda a página\n",
        "soup = BeautifulSoup(pagina.content, \"html.parser\")\n"
      ],
      "metadata": {
        "id": "nVyjEQvbIdsj"
      },
      "execution_count": 10,
      "outputs": []
    },
    {
      "cell_type": "code",
      "source": [
        "# Identificar o elemento que contém o título principal da notícia\n",
        "cabecalho = soup.find('h1').get_text()\n",
        "print(cabecalho)"
      ],
      "metadata": {
        "colab": {
          "base_uri": "https://localhost:8080/"
        },
        "id": "QRSkL_YjB2mb",
        "outputId": "e5634b26-6296-4745-96af-2208f80f489a"
      },
      "execution_count": 11,
      "outputs": [
        {
          "output_type": "stream",
          "name": "stdout",
          "text": [
            " Por que fazer exercícios não é o suficiente para perder peso \n"
          ]
        }
      ]
    },
    {
      "cell_type": "markdown",
      "source": [
        "Geralmente o texto da notícia fica na tag < p >, precisamos extrair esses *valores*"
      ],
      "metadata": {
        "id": "wbn-nTzNC4Hh"
      }
    },
    {
      "cell_type": "code",
      "source": [
        "# Obter os textos das tags <p>\n",
        "p_tags = soup.find_all('p')\n",
        "# Removendo os espaços em branco entre os parágrafos (colocados pra separar visualmente os elementos)\n",
        "texto_p_tags = [tag.get_text().strip() for tag in p_tags]\n",
        "texto_p_tags"
      ],
      "metadata": {
        "colab": {
          "base_uri": "https://localhost:8080/"
        },
        "id": "uewjMyguB_tZ",
        "outputId": "7ffd4595-3e69-4dd8-868c-2ec868507444"
      },
      "execution_count": 12,
      "outputs": [
        {
          "output_type": "execute_result",
          "data": {
            "text/plain": [
              "['Nutricionistas e pesquisadores explicam como a alimentação faz mais diferença na balança do que a malhação',\n",
              " 'Ben Tinkerda CNN',\n",
              " '',\n",
              " 'Uma das mais comuns resoluções de início de semana é perder peso, em especial depois da overdose de chocolate que a Páscoa pode proporcionar. E se você deseja ser bem-sucedido nessa missão, há algo que precisa saber: a dieta é muito mais importante do que o exercício – de longe.',\n",
              " '“Não poderia ser mais verdade”, diz a nutricionista e colaboradora da CNN Lisa Drayer. “Basicamente, o que eu sempre digo às pessoas é que o que você tira da sua dieta é muito mais importante do que o quanto você se exercita.”',\n",
              " 'Pense assim: todas as suas “calorias recebidas” vêm dos alimentos que você come e das bebidas que você bebe, mas apenas uma parte de suas “calorias eliminadas” são perdidas através do exercício.',\n",
              " 'Leia mais',\n",
              " 'De acordo com Alexxai Kravitz, pesquisador do Instituto Nacional de Diabetes e Doenças Digestivas e Renais dos Estados Unidos, “é geralmente aceito que existem três componentes principais no gasto de energia”:',\n",
              " 'Para a maioria das pessoas, a taxa metabólica basal é responsável por 60% a 80% do gasto total de energia, disse Kravitz. Ele citou um estudo que define isso como “a taxa mínima de gasto de energia compatível com a vida”. À medida que você envelhece, sua taxa diminui, mas aumentar sua massa muscular faz com que ela aumente.',\n",
              " 'Cerca de 10% de suas calorias são queimadas digerindo os alimentos que você come, o que significa que cerca de 10% a 30% são perdidos através da atividade física.',\n",
              " '“Uma distinção importante aqui é que esse número inclui todas as atividades físicas: caminhada, digitação, agitação e exercícios formais”, disse Kravitz. “Então, se o gasto total de energia da atividade física for de 10% a 30%, o exercício é um subconjunto desse número.',\n",
              " '“A pessoa média – excluindo os atletas profissionais – queima de 5% a 15% de suas calorias diárias através do exercício”, disse ele. “Não é irrelevante, mas não é igual à ingestão de alimentos, que responde por 100% da ingestão de energia do corpo.”',\n",
              " 'Além do mais, como qualquer pessoa que trabalhou um dia na vida pode lhe dizer, o exercício aumenta o apetite – e isso pode sabotar até mesmo as melhores intenções.',\n",
              " 'De acordo com cálculos da Harvard Medical School, uma pessoa de 85 quilogramas queima 200 calorias em 30 minutos de caminhada a 6 km/h (um ritmo de 10 minutos por km). Você poderia facilmente desfazer todo esse trabalho duro comendo quatro biscoitos de chocolate, 1 bola e meia de sorvete ou menos de dois copos de vinho.',\n",
              " 'Mesmo uma vigorosa aula de spinning, que pode queimar mais de 700 calorias, pode ser completamente anulada com apenas algumas bebidas misturadas ou um pedaço de bolo.',\n",
              " '“É tão desproporcional a quantidade de tempo que você precisaria fazer exercício para queimar esses poucos pedaços de comida”, disse Drayer.',\n",
              " 'O sentimento aqui é que você “ganhou” o que come depois de malhar, quando em vez disso – se seu objetivo é perder peso – seria melhor não malhar e simplesmente comer menos.',\n",
              " 'Claro, nem todas as calorias são iguais, mas para simplificar, 3.500 calorias equivalem a 1 quilo de gordura. Portanto, para perder 1 quilo por semana, você deve cortar 500 calorias todos os dias. Se você bebe refrigerante, cortar isso de sua dieta é uma das maneiras mais fáceis de chegar lá.',\n",
              " '“A outra coisa é que o exercício pode aumentar seu apetite, especialmente com exercícios de resistência prolongada ou com levantamento de peso”, disse Drayer. “É outra razão pela qual eu digo às pessoas que querem perder peso para realmente se concentrarem primeiro na dieta.”',\n",
              " 'É clichê – mas também verdade – que devagar e sempre vence a corrida quando se trata de perda de peso. De acordo com os Centros de Controle e Prevenção de Doenças dos EUA, “as evidências mostram que as pessoas que perdem peso gradualmente (cerca de 500 gramas a 1 kg por semana) são mais bem-sucedidas em manter o peso”.',\n",
              " '“Tudo isso não quer dizer que o exercício não tenha seu lugar”, disse Drayer. “É certamente importante para construir força, massa muscular e flexibilidade. Pode ajudar a controlar doenças, incluindo doenças cardíacas e diabetes. Pode melhorar seu humor. Pode ajudar a combater a depressão. Mas, embora o exercício possa ajudar na perda de peso, a dieta é um fator de estilo de vida muito mais importante.”',\n",
              " 'Como diz o ditado americano: abdomens são feitos na cozinha, não na academia.',\n",
              " 'Este conteúdo foi criado originalmente em inglês.',\n",
              " 'versão original',\n",
              " 'Mais Recentes da CNN',\n",
              " 'Nemo enim ipsam voluptatem quia voluptas sit aspernatur aut odit aut fugit:',\n",
              " 'Nemo enim ipsam voluptatem quia voluptas sit aspernatur aut odit aut fugit.',\n",
              " 'Mensagem enviada com sucesso!']"
            ]
          },
          "metadata": {},
          "execution_count": 12
        }
      ]
    },
    {
      "cell_type": "code",
      "source": [
        "# Separar as frase a partir do elemento '\\n' ou onde tem o elemento ponto '.' (elementos geralmente sem contexto pra notícia, como anuncios tags de CEO e links \"leia mais\")\n",
        "lista_frases = [frase for frase in texto_p_tags if not '\\n' in frase]\n",
        "lista_frases = [frase for frase in lista_frases if '.' in frase]\n",
        "lista_frases"
      ],
      "metadata": {
        "colab": {
          "base_uri": "https://localhost:8080/"
        },
        "id": "MO-Bbp_jFBvy",
        "outputId": "9abf19f5-c567-4ae5-98e7-29d5a99bacc5"
      },
      "execution_count": 13,
      "outputs": [
        {
          "output_type": "execute_result",
          "data": {
            "text/plain": [
              "['Uma das mais comuns resoluções de início de semana é perder peso, em especial depois da overdose de chocolate que a Páscoa pode proporcionar. E se você deseja ser bem-sucedido nessa missão, há algo que precisa saber: a dieta é muito mais importante do que o exercício – de longe.',\n",
              " '“Não poderia ser mais verdade”, diz a nutricionista e colaboradora da CNN Lisa Drayer. “Basicamente, o que eu sempre digo às pessoas é que o que você tira da sua dieta é muito mais importante do que o quanto você se exercita.”',\n",
              " 'Pense assim: todas as suas “calorias recebidas” vêm dos alimentos que você come e das bebidas que você bebe, mas apenas uma parte de suas “calorias eliminadas” são perdidas através do exercício.',\n",
              " 'Para a maioria das pessoas, a taxa metabólica basal é responsável por 60% a 80% do gasto total de energia, disse Kravitz. Ele citou um estudo que define isso como “a taxa mínima de gasto de energia compatível com a vida”. À medida que você envelhece, sua taxa diminui, mas aumentar sua massa muscular faz com que ela aumente.',\n",
              " 'Cerca de 10% de suas calorias são queimadas digerindo os alimentos que você come, o que significa que cerca de 10% a 30% são perdidos através da atividade física.',\n",
              " '“Uma distinção importante aqui é que esse número inclui todas as atividades físicas: caminhada, digitação, agitação e exercícios formais”, disse Kravitz. “Então, se o gasto total de energia da atividade física for de 10% a 30%, o exercício é um subconjunto desse número.',\n",
              " '“A pessoa média – excluindo os atletas profissionais – queima de 5% a 15% de suas calorias diárias através do exercício”, disse ele. “Não é irrelevante, mas não é igual à ingestão de alimentos, que responde por 100% da ingestão de energia do corpo.”',\n",
              " 'Além do mais, como qualquer pessoa que trabalhou um dia na vida pode lhe dizer, o exercício aumenta o apetite – e isso pode sabotar até mesmo as melhores intenções.',\n",
              " 'De acordo com cálculos da Harvard Medical School, uma pessoa de 85 quilogramas queima 200 calorias em 30 minutos de caminhada a 6 km/h (um ritmo de 10 minutos por km). Você poderia facilmente desfazer todo esse trabalho duro comendo quatro biscoitos de chocolate, 1 bola e meia de sorvete ou menos de dois copos de vinho.',\n",
              " 'Mesmo uma vigorosa aula de spinning, que pode queimar mais de 700 calorias, pode ser completamente anulada com apenas algumas bebidas misturadas ou um pedaço de bolo.',\n",
              " '“É tão desproporcional a quantidade de tempo que você precisaria fazer exercício para queimar esses poucos pedaços de comida”, disse Drayer.',\n",
              " 'O sentimento aqui é que você “ganhou” o que come depois de malhar, quando em vez disso – se seu objetivo é perder peso – seria melhor não malhar e simplesmente comer menos.',\n",
              " 'Claro, nem todas as calorias são iguais, mas para simplificar, 3.500 calorias equivalem a 1 quilo de gordura. Portanto, para perder 1 quilo por semana, você deve cortar 500 calorias todos os dias. Se você bebe refrigerante, cortar isso de sua dieta é uma das maneiras mais fáceis de chegar lá.',\n",
              " '“A outra coisa é que o exercício pode aumentar seu apetite, especialmente com exercícios de resistência prolongada ou com levantamento de peso”, disse Drayer. “É outra razão pela qual eu digo às pessoas que querem perder peso para realmente se concentrarem primeiro na dieta.”',\n",
              " 'É clichê – mas também verdade – que devagar e sempre vence a corrida quando se trata de perda de peso. De acordo com os Centros de Controle e Prevenção de Doenças dos EUA, “as evidências mostram que as pessoas que perdem peso gradualmente (cerca de 500 gramas a 1 kg por semana) são mais bem-sucedidas em manter o peso”.',\n",
              " '“Tudo isso não quer dizer que o exercício não tenha seu lugar”, disse Drayer. “É certamente importante para construir força, massa muscular e flexibilidade. Pode ajudar a controlar doenças, incluindo doenças cardíacas e diabetes. Pode melhorar seu humor. Pode ajudar a combater a depressão. Mas, embora o exercício possa ajudar na perda de peso, a dieta é um fator de estilo de vida muito mais importante.”',\n",
              " 'Como diz o ditado americano: abdomens são feitos na cozinha, não na academia.',\n",
              " 'Este conteúdo foi criado originalmente em inglês.',\n",
              " 'Nemo enim ipsam voluptatem quia voluptas sit aspernatur aut odit aut fugit.']"
            ]
          },
          "metadata": {},
          "execution_count": 13
        }
      ]
    },
    {
      "cell_type": "code",
      "source": [
        "# Combinando as frases em uma lista, compondo o artigo.\n",
        "artigo = ' '.join(lista_frases)\n",
        "artigo\n",
        "\n"
      ],
      "metadata": {
        "id": "8f3Jd8XpGn_Q",
        "colab": {
          "base_uri": "https://localhost:8080/",
          "height": 108
        },
        "outputId": "34529aa7-7666-4ab4-a471-9133b5a9fda6"
      },
      "execution_count": 14,
      "outputs": [
        {
          "output_type": "execute_result",
          "data": {
            "text/plain": [
              "'Uma das mais comuns resoluções de início de semana é perder peso, em especial depois da overdose de chocolate que a Páscoa pode proporcionar. E se você deseja ser bem-sucedido nessa missão, há algo que precisa saber: a dieta é muito mais importante do que o exercício – de longe. “Não poderia ser mais verdade”, diz a nutricionista e colaboradora da CNN Lisa Drayer. “Basicamente, o que eu sempre digo às pessoas é que o que você tira da sua dieta é muito mais importante do que o quanto você se exercita.” Pense assim: todas as suas “calorias recebidas” vêm dos alimentos que você come e das bebidas que você bebe, mas apenas uma parte de suas “calorias eliminadas” são perdidas através do exercício. Para a maioria das pessoas, a taxa metabólica basal é responsável por 60% a 80% do gasto total de energia, disse Kravitz. Ele citou um estudo que define isso como “a taxa mínima de gasto de energia compatível com a vida”. À medida que você envelhece, sua taxa diminui, mas aumentar sua massa muscular faz com que ela aumente. Cerca de 10% de suas calorias são queimadas digerindo os alimentos que você come, o que significa que cerca de 10% a 30% são perdidos através da atividade física. “Uma distinção importante aqui é que esse número inclui todas as atividades físicas: caminhada, digitação, agitação e exercícios formais”, disse Kravitz. “Então, se o gasto total de energia da atividade física for de 10% a 30%, o exercício é um subconjunto desse número. “A pessoa média – excluindo os atletas profissionais – queima de 5% a 15% de suas calorias diárias através do exercício”, disse ele. “Não é irrelevante, mas não é igual à ingestão de alimentos, que responde por 100% da ingestão de energia do corpo.” Além do mais, como qualquer pessoa que trabalhou um dia na vida pode lhe dizer, o exercício aumenta o apetite – e isso pode sabotar até mesmo as melhores intenções. De acordo com cálculos da Harvard Medical School, uma pessoa de 85 quilogramas queima 200 calorias em 30 minutos de caminhada a 6 km/h (um ritmo de 10 minutos por km). Você poderia facilmente desfazer todo esse trabalho duro comendo quatro biscoitos de chocolate, 1 bola e meia de sorvete ou menos de dois copos de vinho. Mesmo uma vigorosa aula de spinning, que pode queimar mais de 700 calorias, pode ser completamente anulada com apenas algumas bebidas misturadas ou um pedaço de bolo. “É tão desproporcional a quantidade de tempo que você precisaria fazer exercício para queimar esses poucos pedaços de comida”, disse Drayer. O sentimento aqui é que você “ganhou” o que come depois de malhar, quando em vez disso – se seu objetivo é perder peso – seria melhor não malhar e simplesmente comer menos. Claro, nem todas as calorias são iguais, mas para simplificar, 3.500 calorias equivalem a 1 quilo de gordura. Portanto, para perder 1 quilo por semana, você deve cortar 500 calorias todos os dias. Se você bebe refrigerante, cortar isso de sua dieta é uma das maneiras mais fáceis de chegar lá. “A outra coisa é que o exercício pode aumentar seu apetite, especialmente com exercícios de resistência prolongada ou com levantamento de peso”, disse Drayer. “É outra razão pela qual eu digo às pessoas que querem perder peso para realmente se concentrarem primeiro na dieta.” É clichê – mas também verdade – que devagar e sempre vence a corrida quando se trata de perda de peso. De acordo com os Centros de Controle e Prevenção de Doenças dos EUA, “as evidências mostram que as pessoas que perdem peso gradualmente (cerca de 500 gramas a 1 kg por semana) são mais bem-sucedidas em manter o peso”. “Tudo isso não quer dizer que o exercício não tenha seu lugar”, disse Drayer. “É certamente importante para construir força, massa muscular e flexibilidade. Pode ajudar a controlar doenças, incluindo doenças cardíacas e diabetes. Pode melhorar seu humor. Pode ajudar a combater a depressão. Mas, embora o exercício possa ajudar na perda de peso, a dieta é um fator de estilo de vida muito mais importante.” Como diz o ditado americano: abdomens são feitos na cozinha, não na academia. Este conteúdo foi criado originalmente em inglês. Nemo enim ipsam voluptatem quia voluptas sit aspernatur aut odit aut fugit.'"
            ],
            "application/vnd.google.colaboratory.intrinsic+json": {
              "type": "string"
            }
          },
          "metadata": {},
          "execution_count": 14
        }
      ]
    },
    {
      "cell_type": "markdown",
      "source": [
        "# Gerando o resumo da notícia com o package Gensim usando NLP"
      ],
      "metadata": {
        "id": "kxmpajEzKvcb"
      }
    },
    {
      "cell_type": "code",
      "source": [
        "resumo = summarize (artigo, ratio= 0.3)\n",
        "resumo"
      ],
      "metadata": {
        "colab": {
          "base_uri": "https://localhost:8080/",
          "height": 108
        },
        "id": "P5niQ519LENa",
        "outputId": "f4c9b90a-4d9a-40a3-fa8e-a678aaf58e89"
      },
      "execution_count": 15,
      "outputs": [
        {
          "output_type": "execute_result",
          "data": {
            "text/plain": [
              "'Uma das mais comuns resoluções de início de semana é perder peso, em especial depois da overdose de chocolate que a Páscoa pode proporcionar.\\n“Basicamente, o que eu sempre digo às pessoas é que o que você tira da sua dieta é muito mais importante do que o quanto você se exercita.” Pense assim: todas as suas “calorias recebidas” vêm dos alimentos que você come e das bebidas que você bebe, mas apenas uma parte de suas “calorias eliminadas” são perdidas através do exercício.\\nPara a maioria das pessoas, a taxa metabólica basal é responsável por 60% a 80% do gasto total de energia, disse Kravitz.\\n“Uma distinção importante aqui é que esse número inclui todas as atividades físicas: caminhada, digitação, agitação e exercícios formais”, disse Kravitz.\\n“Não é irrelevante, mas não é igual à ingestão de alimentos, que responde por 100% da ingestão de energia do corpo.” Além do mais, como qualquer pessoa que trabalhou um dia na vida pode lhe dizer, o exercício aumenta o apetite – e isso pode sabotar até mesmo as melhores intenções.\\n“É tão desproporcional a quantidade de tempo que você precisaria fazer exercício para queimar esses poucos pedaços de comida”, disse Drayer.\\nPortanto, para perder 1 quilo por semana, você deve cortar 500 calorias todos os dias.\\nSe você bebe refrigerante, cortar isso de sua dieta é uma das maneiras mais fáceis de chegar lá.\\nMas, embora o exercício possa ajudar na perda de peso, a dieta é um fator de estilo de vida muito mais importante.” Como diz o ditado americano: abdomens são feitos na cozinha, não na academia.'"
            ],
            "application/vnd.google.colaboratory.intrinsic+json": {
              "type": "string"
            }
          },
          "metadata": {},
          "execution_count": 15
        }
      ]
    },
    {
      "cell_type": "code",
      "source": [
        "#retirando os elementos \\n\n",
        "resumo_final = ''.join( escape for escape in resumo if escape != '\\n' )\n",
        "resumo_final"
      ],
      "metadata": {
        "colab": {
          "base_uri": "https://localhost:8080/",
          "height": 108
        },
        "id": "0nYSYWwoLniA",
        "outputId": "4cfc16cb-2a01-491f-871b-3e255fbe2827"
      },
      "execution_count": 16,
      "outputs": [
        {
          "output_type": "execute_result",
          "data": {
            "text/plain": [
              "'Uma das mais comuns resoluções de início de semana é perder peso, em especial depois da overdose de chocolate que a Páscoa pode proporcionar.“Basicamente, o que eu sempre digo às pessoas é que o que você tira da sua dieta é muito mais importante do que o quanto você se exercita.” Pense assim: todas as suas “calorias recebidas” vêm dos alimentos que você come e das bebidas que você bebe, mas apenas uma parte de suas “calorias eliminadas” são perdidas através do exercício.Para a maioria das pessoas, a taxa metabólica basal é responsável por 60% a 80% do gasto total de energia, disse Kravitz.“Uma distinção importante aqui é que esse número inclui todas as atividades físicas: caminhada, digitação, agitação e exercícios formais”, disse Kravitz.“Não é irrelevante, mas não é igual à ingestão de alimentos, que responde por 100% da ingestão de energia do corpo.” Além do mais, como qualquer pessoa que trabalhou um dia na vida pode lhe dizer, o exercício aumenta o apetite – e isso pode sabotar até mesmo as melhores intenções.“É tão desproporcional a quantidade de tempo que você precisaria fazer exercício para queimar esses poucos pedaços de comida”, disse Drayer.Portanto, para perder 1 quilo por semana, você deve cortar 500 calorias todos os dias.Se você bebe refrigerante, cortar isso de sua dieta é uma das maneiras mais fáceis de chegar lá.Mas, embora o exercício possa ajudar na perda de peso, a dieta é um fator de estilo de vida muito mais importante.” Como diz o ditado americano: abdomens são feitos na cozinha, não na academia.'"
            ],
            "application/vnd.google.colaboratory.intrinsic+json": {
              "type": "string"
            }
          },
          "metadata": {},
          "execution_count": 16
        }
      ]
    },
    {
      "cell_type": "markdown",
      "source": [
        "comparando os elementos"
      ],
      "metadata": {
        "id": "A1oDCZGxGnUg"
      }
    },
    {
      "cell_type": "code",
      "source": [
        "tamanho_original = len(artigo)\n",
        "tamanho_resumo = len(resumo_final)\n",
        "tamanho_original\n"
      ],
      "metadata": {
        "colab": {
          "base_uri": "https://localhost:8080/"
        },
        "id": "kbXmrZG4NICA",
        "outputId": "36fb41ae-3f59-4b5a-b2ab-5236db4b61e3"
      },
      "execution_count": 17,
      "outputs": [
        {
          "output_type": "execute_result",
          "data": {
            "text/plain": [
              "4182"
            ]
          },
          "metadata": {},
          "execution_count": 17
        }
      ]
    },
    {
      "cell_type": "code",
      "source": [
        "tamanho_resumo"
      ],
      "metadata": {
        "colab": {
          "base_uri": "https://localhost:8080/"
        },
        "id": "jP1Ul9c4Nw-k",
        "outputId": "bc772bdf-f72b-4910-a9fa-d1ab5e4354cb"
      },
      "execution_count": 19,
      "outputs": [
        {
          "output_type": "execute_result",
          "data": {
            "text/plain": [
              "1545"
            ]
          },
          "metadata": {},
          "execution_count": 19
        }
      ]
    },
    {
      "cell_type": "markdown",
      "source": [
        "# APLICANDO NLP NO RESUMO ATRAVÉS DO EXTRATOR DE KEYWORDS YAKE\n",
        "\n",
        "\n"
      ],
      "metadata": {
        "id": "Jsfja8kPy-Eg"
      }
    },
    {
      "cell_type": "code",
      "source": [
        "#! pip install git+https://github.com/LIAAD/yake\n",
        "\n",
        "import yake\n",
        "extrator = yake.KeywordExtractor(lan=\"pt-br\", n=1, dedupLim=0.9, top=10)"
      ],
      "metadata": {
        "id": "l9FtUh8s3BUB"
      },
      "execution_count": 55,
      "outputs": []
    },
    {
      "cell_type": "code",
      "source": [
        "keywords = extrator.extract_keywords(resumo_final)\n",
        "keywords"
      ],
      "metadata": {
        "colab": {
          "base_uri": "https://localhost:8080/"
        },
        "id": "IbTLYyCa3ktw",
        "outputId": "df128d06-8d4f-49b3-b505-757ad132ce14"
      },
      "execution_count": 56,
      "outputs": [
        {
          "output_type": "execute_result",
          "data": {
            "text/plain": [
              "[('Basicamente', 0.049997639344302375),\n",
              " ('Páscoa', 0.05984236292670306),\n",
              " ('dieta', 0.061921976567480386),\n",
              " ('Kravitz.', 0.06324080399471838),\n",
              " ('disse', 0.06720970685398325),\n",
              " ('importante', 0.06768908655834291),\n",
              " ('calorias', 0.0739513693176769),\n",
              " ('exercício', 0.08583872862313804),\n",
              " ('peso', 0.10662306324751637),\n",
              " ('pessoas', 0.1100875350319566)]"
            ]
          },
          "metadata": {},
          "execution_count": 56
        }
      ]
    },
    {
      "cell_type": "markdown",
      "source": [
        ""
      ],
      "metadata": {
        "id": "sG-Yv7o56mUv"
      }
    }
  ]
}